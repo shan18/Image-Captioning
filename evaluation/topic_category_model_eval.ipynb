{
 "cells": [
  {
   "cell_type": "markdown",
   "metadata": {},
   "source": [
    "# Imports"
   ]
  },
  {
   "cell_type": "code",
   "execution_count": null,
   "metadata": {},
   "outputs": [],
   "source": [
    "import os\n",
    "import pickle\n",
    "import h5py\n",
    "import numpy as np\n",
    "import matplotlib.pyplot as plt\n",
    "\n",
    "import sys\n",
    "sys.path.append(os.path.dirname(os.path.dirname(os.path.abspath(__file__))))\n",
    "\n",
    "from models.topic_category_model import load_category_model"
   ]
  },
  {
   "cell_type": "markdown",
   "metadata": {},
   "source": [
    "# Load Data"
   ]
  },
  {
   "cell_type": "code",
   "execution_count": null,
   "metadata": {},
   "outputs": [],
   "source": [
    "def load_data(filename, processed_data_dir, data_type):\n",
    "    h5f = h5py.File(os.path.join(processed_data_dir, filename), 'r')\n",
    "    data = h5f[data_type][:]\n",
    "    h5f.close()\n",
    "    return data"
   ]
  },
  {
   "cell_type": "code",
   "execution_count": null,
   "metadata": {},
   "outputs": [],
   "source": [
    "# Folder containing the datset\n",
    "data_dir = '../dataset'\n",
    "processed_data_dir = '../dataset/processed_topic_data'"
   ]
  },
  {
   "cell_type": "code",
   "execution_count": null,
   "metadata": {},
   "outputs": [],
   "source": [
    "# Total number of categories\n",
    "with open(data_dir + '/coco_raw.pickle', 'rb') as file:\n",
    "    coco_raw = pickle.load(file)\n",
    "id_category = coco_raw['id_category']\n",
    "num_classes = len(id_category)"
   ]
  },
  {
   "cell_type": "code",
   "execution_count": null,
   "metadata": {},
   "outputs": [],
   "source": [
    "test_images = load_data('test_images.h5', processed_data_dir, 'images')"
   ]
  },
  {
   "cell_type": "code",
   "execution_count": null,
   "metadata": {},
   "outputs": [],
   "source": [
    "test_categories = load_data('test_categories.h5', processed_data_dir, 'labels')"
   ]
  },
  {
   "cell_type": "markdown",
   "metadata": {},
   "source": [
    "# Load Model"
   ]
  },
  {
   "cell_type": "code",
   "execution_count": null,
   "metadata": {},
   "outputs": [],
   "source": [
    "weights_path = '../weights/topic_category_model.keras'\n",
    "model = load_category_model(num_classes, weights_path)"
   ]
  },
  {
   "cell_type": "markdown",
   "metadata": {},
   "source": [
    "# Test Model"
   ]
  },
  {
   "cell_type": "code",
   "execution_count": null,
   "metadata": {},
   "outputs": [],
   "source": [
    "def get_predictions(model, image, label, id_category):\n",
    "    image_batch = np.expand_dims(image, axis=0)\n",
    "    predictions = model.predict(image_batch)\n",
    "    \n",
    "    prediction_labels = []\n",
    "    for index, prediction_probability in enumerate(predictions[0]):\n",
    "        if prediction_probability > 0.5:\n",
    "            prediction_labels.append(id_category[index])\n",
    "    \n",
    "    true_labels = []\n",
    "    for index, value in enumerate(label):\n",
    "        if value == 1:\n",
    "            true_labels.append(id_category[index])\n",
    "    \n",
    "    print('True labels:', true_labels)\n",
    "    print('Predictions:', prediction_labels)\n",
    "    \n",
    "    print('Image:')\n",
    "    plt.imshow(image)\n",
    "    plt.show()"
   ]
  },
  {
   "cell_type": "code",
   "execution_count": null,
   "metadata": {},
   "outputs": [],
   "source": [
    "idx = 789"
   ]
  },
  {
   "cell_type": "code",
   "execution_count": null,
   "metadata": {},
   "outputs": [],
   "source": [
    "get_predictions(model, test_images[idx], test_categories[idx], id_category)"
   ]
  },
  {
   "cell_type": "code",
   "execution_count": null,
   "metadata": {},
   "outputs": [],
   "source": []
  }
 ],
 "metadata": {
  "kernelspec": {
   "display_name": "Python 3",
   "language": "python",
   "name": "python3"
  },
  "language_info": {
   "codemirror_mode": {
    "name": "ipython",
    "version": 3
   },
   "file_extension": ".py",
   "mimetype": "text/x-python",
   "name": "python",
   "nbconvert_exporter": "python",
   "pygments_lexer": "ipython3",
   "version": "3.7.1"
  }
 },
 "nbformat": 4,
 "nbformat_minor": 2
}

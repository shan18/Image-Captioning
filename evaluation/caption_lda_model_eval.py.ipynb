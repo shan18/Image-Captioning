{
 "cells": [
  {
   "cell_type": "code",
   "execution_count": 1,
   "metadata": {},
   "outputs": [],
   "source": [
    "import os\n",
    "import pickle\n",
    "import numpy as np\n",
    "import matplotlib.pyplot as plt\n",
    "from tensorflow.keras.preprocessing.sequence import pad_sequences\n",
    "from nltk.translate.bleu_score import corpus_bleu\n",
    "\n",
    "import sys\n",
    "sys.path.append(os.path.dirname(os.path.abspath('')))\n",
    "\n",
    "from caption_lda_model_train import mark_captions, create_tokenizer\n",
    "from evaluation.caption_category_model_eval import generate_predictions, beam_search_predictions\n",
    "from models.caption_lda_model import create_model\n",
    "from dataset.utils import print_progress_bar, load_image"
   ]
  },
  {
   "cell_type": "code",
   "execution_count": 2,
   "metadata": {},
   "outputs": [],
   "source": [
    "def load_data(data_type, data_dir):\n",
    "    # Path for the cache-file.\n",
    "    feature_cache_path = os.path.join(\n",
    "        data_dir, 'feature_transfer_values_{}.pkl'.format(data_type)\n",
    "    )\n",
    "    topics_cache_path = os.path.join(\n",
    "        data_dir, 'topics16_{}.pkl'.format(data_type)\n",
    "    )\n",
    "    captions_cache_path = os.path.join(\n",
    "        data_dir, 'captions_{}.pkl'.format(data_type)\n",
    "    )\n",
    "\n",
    "    feature_path_exists = os.path.exists(feature_cache_path)\n",
    "    topic_path_exists = os.path.exists(topics_cache_path)\n",
    "    caption_path_exists = os.path.exists(captions_cache_path)\n",
    "    if feature_path_exists and topic_path_exists and caption_path_exists:\n",
    "        with open(feature_cache_path, mode='rb') as file:\n",
    "            feature_obj = pickle.load(file)\n",
    "        with open(topics_cache_path, mode='rb') as file:\n",
    "            topics = pickle.load(file)\n",
    "        with open(captions_cache_path, mode='rb') as file:\n",
    "            captions = pickle.load(file)\n",
    "    else:\n",
    "        sys.exit('processed {} data does not exist.'.format(data_type))\n",
    "\n",
    "    print('{} data loaded from cache-file.'.format(data_type))\n",
    "    return feature_obj, topics, captions"
   ]
  },
  {
   "cell_type": "code",
   "execution_count": 3,
   "metadata": {},
   "outputs": [],
   "source": [
    "data_dir = os.path.join(os.path.dirname(os.path.abspath('')), 'dataset', 'processed_lda_data')"
   ]
  },
  {
   "cell_type": "code",
   "execution_count": 4,
   "metadata": {},
   "outputs": [
    {
     "name": "stdout",
     "output_type": "stream",
     "text": [
      "train data loaded from cache-file.\n"
     ]
    }
   ],
   "source": [
    "# Load pre-processed data\n",
    "features_train, topics_train, captions_train = load_data(\n",
    "    'train', data_dir\n",
    ")"
   ]
  },
  {
   "cell_type": "code",
   "execution_count": 5,
   "metadata": {},
   "outputs": [],
   "source": [
    "# Load test data\n",
    "with open(data_dir + '/feature_transfer_values_test.pkl', mode='rb') as file:\n",
    "    features_test = pickle.load(file)\n",
    "with open(data_dir + '/captions_test.pkl', mode='rb') as file:\n",
    "    captions_test = pickle.load(file)\n",
    "with open(data_dir + '/images_test.pkl', mode='rb') as file:\n",
    "    images_test = pickle.load(file)"
   ]
  },
  {
   "cell_type": "code",
   "execution_count": 6,
   "metadata": {},
   "outputs": [],
   "source": [
    "def load_test_topics(features_train, topics_train, features_test):\n",
    "    topics_test = []\n",
    "    print_progress_bar(0, len(features_test))\n",
    "    for idx, feature in enumerate(features_test):\n",
    "        topic_idx = np.argmax(np.sum(np.abs(features_train - feature), axis=1))\n",
    "        topics_test.append(topics_train[topic_idx])\n",
    "        print_progress_bar(idx + 1, len(features_test))\n",
    "    return np.array(topics_test).astype(topics_train.dtype)"
   ]
  },
  {
   "cell_type": "code",
   "execution_count": null,
   "metadata": {},
   "outputs": [],
   "source": [
    "topics_test = load_test_topics(features_train, topics_train, features_test)"
   ]
  },
  {
   "cell_type": "code",
   "execution_count": 7,
   "metadata": {},
   "outputs": [],
   "source": [
    "# create tokenizer\n",
    "mark_start = 'startseq'\n",
    "mark_end = 'endseq'\n",
    "captions_train_marked = mark_captions(captions_train, mark_start, mark_end)\n",
    "tokenizer, vocab_size = create_tokenizer(captions_train_marked)\n",
    "\n",
    "# Get data size\n",
    "max_tokens = 16"
   ]
  },
  {
   "cell_type": "code",
   "execution_count": 8,
   "metadata": {},
   "outputs": [
    {
     "name": "stdout",
     "output_type": "stream",
     "text": [
      "Creating word to vec map...\n",
      "Done!\n",
      "__________________________________________________________________________________________________\n",
      "Layer (type)                    Output Shape         Param #     Connected to                     \n",
      "==================================================================================================\n",
      "caption_input (InputLayer)      (None, 16)           0                                            \n",
      "__________________________________________________________________________________________________\n",
      "topic_input (InputLayer)        (None, 16)           0                                            \n",
      "__________________________________________________________________________________________________\n",
      "feature_input (InputLayer)      (None, 4096)         0                                            \n",
      "__________________________________________________________________________________________________\n",
      "decoder_embedding (Embedding)   (None, 16, 300)      2593500     caption_input[0][0]              \n",
      "__________________________________________________________________________________________________\n",
      "reshape (Reshape)               (None, 16, 1)        0           topic_input[0][0]                \n",
      "__________________________________________________________________________________________________\n",
      "dropout (Dropout)               (None, 4096)         0           feature_input[0][0]              \n",
      "__________________________________________________________________________________________________\n",
      "dropout_1 (Dropout)             (None, 16, 300)      0           decoder_embedding[0][0]          \n",
      "__________________________________________________________________________________________________\n",
      "topic_lstm (LSTM)               [(None, 256), (None, 264192      reshape[0][0]                    \n",
      "__________________________________________________________________________________________________\n",
      "image_model_output (Dense)      (None, 256)          1048832     dropout[0][0]                    \n",
      "__________________________________________________________________________________________________\n",
      "caption_lstm (LSTM)             (None, 256)          570368      dropout_1[0][0]                  \n",
      "                                                                 topic_lstm[0][1]                 \n",
      "                                                                 topic_lstm[0][2]                 \n",
      "__________________________________________________________________________________________________\n",
      "add (Add)                       (None, 256)          0           image_model_output[0][0]         \n",
      "                                                                 caption_lstm[0][0]               \n",
      "__________________________________________________________________________________________________\n",
      "dense (Dense)                   (None, 256)          65792       add[0][0]                        \n",
      "__________________________________________________________________________________________________\n",
      "caption_output (Dense)          (None, 8644)         2221508     dense[0][0]                      \n",
      "==================================================================================================\n",
      "Total params: 6,764,192\n",
      "Trainable params: 4,170,692\n",
      "Non-trainable params: 2,593,500\n",
      "__________________________________________________________________________________________________\n",
      "None\n"
     ]
    }
   ],
   "source": [
    "# Embedding vector file\n",
    "glove_path = os.path.join(os.path.dirname(os.path.abspath('')), 'dataset', 'glove.6B.300d.txt')\n",
    "\n",
    "# Create Model\n",
    "model = create_model(\n",
    "    topics_train.shape[1:],\n",
    "    features_test.shape[1:],\n",
    "    tokenizer.word_index,\n",
    "    glove_path,\n",
    "    mark_start,\n",
    "    mark_end,\n",
    "    vocab_size,\n",
    "    max_tokens\n",
    ")"
   ]
  },
  {
   "cell_type": "code",
   "execution_count": 9,
   "metadata": {},
   "outputs": [
    {
     "name": "stdout",
     "output_type": "stream",
     "text": [
      "Weights loaded.\n"
     ]
    }
   ],
   "source": [
    "# Weights path\n",
    "weights_path = os.path.join(os.path.dirname(os.path.abspath('')), 'weights', 'cplda-weights-04-2.59-b128-t16.hdf5')\n",
    "\n",
    "# Load weights\n",
    "try:\n",
    "    model.load_weights(weights_path)\n",
    "    print('Weights loaded.')\n",
    "except Exception as e:\n",
    "    print('Error loading the weights.')\n",
    "    print(e)"
   ]
  },
  {
   "cell_type": "code",
   "execution_count": null,
   "metadata": {},
   "outputs": [],
   "source": [
    "idx = 30\n",
    "\n",
    "y_pred = generate_predictions(\n",
    "    topics_test[idx],\n",
    "    features_test[idx],\n",
    "    model,\n",
    "    tokenizer,\n",
    "    mark_start,\n",
    "    mark_end,\n",
    "    max_tokens\n",
    ")\n",
    "\n",
    "# Display image\n",
    "img_path = os.path.join(os.path.dirname(os.path.abspath('')), 'dataset', images_test[idx])\n",
    "img = load_image(img_path)\n",
    "plt.imshow(img)\n",
    "plt.show()\n",
    "\n",
    "# Pred caption\n",
    "print(y_pred, end='\\n')\n",
    "\n",
    "# original caption\n",
    "for cap in captions_test[idx]:\n",
    "    print(cap)"
   ]
  },
  {
   "cell_type": "code",
   "execution_count": 25,
   "metadata": {},
   "outputs": [
    {
     "name": "stdout",
     "output_type": "stream",
     "text": [
      "14117\n",
      "14117\n",
      "10522\n",
      "10522\n",
      "14117\n"
     ]
    }
   ],
   "source": [
    "t = []\n",
    "for idx, feature in enumerate(features_test[145:150]):\n",
    "    topic_idx = np.argmax(np.sum(np.abs(features_train - feature), axis=1))\n",
    "    print(topic_idx)\n",
    "    t.append(topics_train[topic_idx])"
   ]
  },
  {
   "cell_type": "code",
   "execution_count": 11,
   "metadata": {},
   "outputs": [
    {
     "data": {
      "text/plain": [
       "array([0., 0., 0., 0., 0., 0., 0., 0., 0., 0., 0., 0., 0., 0., 0., 0.])"
      ]
     },
     "execution_count": 11,
     "metadata": {},
     "output_type": "execute_result"
    }
   ],
   "source": [
    "t[0] - t[1]"
   ]
  },
  {
   "cell_type": "code",
   "execution_count": 18,
   "metadata": {},
   "outputs": [
    {
     "data": {
      "text/plain": [
       "array([401.2898 , 287.10602, 388.63373, ..., 297.1723 , 545.22205,\n",
       "       420.00818], dtype=float32)"
      ]
     },
     "execution_count": 18,
     "metadata": {},
     "output_type": "execute_result"
    }
   ],
   "source": [
    "a = np.sum(np.abs(features_train - features_test[0]), axis=1)\n",
    "a"
   ]
  },
  {
   "cell_type": "code",
   "execution_count": 19,
   "metadata": {},
   "outputs": [
    {
     "data": {
      "text/plain": [
       "array([409.01874, 504.88245, 604.2456 , ..., 531.49133, 470.52087,\n",
       "       485.12753], dtype=float32)"
      ]
     },
     "execution_count": 19,
     "metadata": {},
     "output_type": "execute_result"
    }
   ],
   "source": [
    "b = np.sum(np.abs(features_train - features_test[148]), axis=1)\n",
    "b"
   ]
  },
  {
   "cell_type": "code",
   "execution_count": 24,
   "metadata": {},
   "outputs": [
    {
     "data": {
      "text/plain": [
       "10522"
      ]
     },
     "execution_count": 24,
     "metadata": {},
     "output_type": "execute_result"
    }
   ],
   "source": [
    "print(np.argmax(b))"
   ]
  },
  {
   "cell_type": "code",
   "execution_count": 20,
   "metadata": {},
   "outputs": [
    {
     "data": {
      "text/plain": [
       "845.2254"
      ]
     },
     "execution_count": 20,
     "metadata": {},
     "output_type": "execute_result"
    }
   ],
   "source": [
    "a[14117]"
   ]
  },
  {
   "cell_type": "code",
   "execution_count": 21,
   "metadata": {},
   "outputs": [
    {
     "data": {
      "text/plain": [
       "795.79736"
      ]
     },
     "execution_count": 21,
     "metadata": {},
     "output_type": "execute_result"
    }
   ],
   "source": [
    "b[14117]"
   ]
  },
  {
   "cell_type": "code",
   "execution_count": 22,
   "metadata": {},
   "outputs": [
    {
     "name": "stdout",
     "output_type": "stream",
     "text": [
      "832.63403\n"
     ]
    }
   ],
   "source": [
    "for i in b:\n",
    "    if i > 800:\n",
    "        print(i)"
   ]
  },
  {
   "cell_type": "code",
   "execution_count": null,
   "metadata": {},
   "outputs": [],
   "source": []
  }
 ],
 "metadata": {
  "kernelspec": {
   "display_name": "Python 3 (ai)",
   "language": "python",
   "name": "ai"
  },
  "language_info": {
   "codemirror_mode": {
    "name": "ipython",
    "version": 3
   },
   "file_extension": ".py",
   "mimetype": "text/x-python",
   "name": "python",
   "nbconvert_exporter": "python",
   "pygments_lexer": "ipython3",
   "version": "3.6.7"
  }
 },
 "nbformat": 4,
 "nbformat_minor": 2
}

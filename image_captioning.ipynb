{
 "cells": [
  {
   "cell_type": "markdown",
   "metadata": {},
   "source": [
    "# Imports"
   ]
  },
  {
   "cell_type": "code",
   "execution_count": 1,
   "metadata": {},
   "outputs": [],
   "source": [
    "import os\n",
    "import cv2\n",
    "import pickle\n",
    "import random\n",
    "import numpy as np\n",
    "import matplotlib.pyplot as plt\n",
    "import tensorflow as tf\n",
    "\n",
    "from dataset.cache import cache"
   ]
  },
  {
   "cell_type": "code",
   "execution_count": 2,
   "metadata": {},
   "outputs": [],
   "source": [
    "from tensorflow.python.keras import backend as K\n",
    "from tensorflow.python.keras.models import Model\n",
    "from tensorflow.python.keras.layers import Input, Dense, GRU, Embedding\n",
    "from tensorflow.python.keras.applications import VGG16\n",
    "from tensorflow.python.keras.optimizers import RMSprop\n",
    "from tensorflow.python.keras.callbacks import ModelCheckpoint, TensorBoard\n",
    "from tensorflow.python.keras.preprocessing.text import Tokenizer\n",
    "from tensorflow.python.keras.preprocessing.sequence import pad_sequences"
   ]
  },
  {
   "cell_type": "markdown",
   "metadata": {},
   "source": [
    "# Load Data"
   ]
  },
  {
   "cell_type": "code",
   "execution_count": 3,
   "metadata": {},
   "outputs": [],
   "source": [
    "random.seed(2) # To always load the same images in each dataset split"
   ]
  },
  {
   "cell_type": "code",
   "execution_count": 4,
   "metadata": {},
   "outputs": [],
   "source": [
    "def load_coco(input_path, split=0.8):\n",
    "    \"\"\" Load coco dataset\n",
    "        :params input_path: path to the parsed coco file\n",
    "        :params split: split between training and validation dataset\n",
    "    \"\"\"\n",
    "    with open(input_path, 'rb') as file:\n",
    "        coco_raw = pickle.load(file)\n",
    "    image_to_captions = coco_raw['image_to_captions']\n",
    "    image_to_file = coco_raw['image_to_file']\n",
    "    \n",
    "    # split dataset\n",
    "    img_ids = list(image_to_file.keys())\n",
    "    split_idx = int(len(img_ids) * split)\n",
    "    random.shuffle(img_ids)\n",
    "    img_ids_train = img_ids[:split_idx]\n",
    "    img_ids_val = img_ids[split_idx:]\n",
    "    \n",
    "    # training dataset\n",
    "    filenames_train = []\n",
    "    captions_train = []\n",
    "    for img_id in img_ids_train:\n",
    "        filenames_train.append(image_to_file[img_id])\n",
    "        captions_train.append(image_to_captions[img_id])\n",
    "    \n",
    "    # validation dataset\n",
    "    filenames_val = []\n",
    "    captions_val = []\n",
    "    for img_id in img_ids_val:\n",
    "        filenames_val.append(image_to_file[img_id])\n",
    "        captions_val.append(image_to_captions[img_id])\n",
    "    \n",
    "    return (filenames_train, captions_train), (filenames_val, captions_val)"
   ]
  },
  {
   "cell_type": "code",
   "execution_count": 5,
   "metadata": {},
   "outputs": [],
   "source": [
    "(filenames_train, captions_train), (filenames_val, captions_val) = load_coco('dataset/coco_raw.pickle')"
   ]
  },
  {
   "cell_type": "code",
   "execution_count": 6,
   "metadata": {},
   "outputs": [],
   "source": [
    "# Folder containing the datset\n",
    "data_dir = 'dataset'"
   ]
  },
  {
   "cell_type": "code",
   "execution_count": 7,
   "metadata": {},
   "outputs": [
    {
     "data": {
      "text/plain": [
       "19324"
      ]
     },
     "execution_count": 7,
     "metadata": {},
     "output_type": "execute_result"
    }
   ],
   "source": [
    "num_images_train = len(filenames_train)\n",
    "num_images_train"
   ]
  },
  {
   "cell_type": "markdown",
   "metadata": {},
   "source": [
    "### Helper functions to load and display images"
   ]
  },
  {
   "cell_type": "code",
   "execution_count": 8,
   "metadata": {},
   "outputs": [],
   "source": [
    "def load_image(path, size=None, grayscale=False):\n",
    "    \"\"\"\n",
    "    Load the image from the given file-path and resize it\n",
    "    to the given size if not None.\n",
    "    \"\"\"\n",
    "\n",
    "    # Load the image using opencv\n",
    "    if not grayscale:  # BGR format\n",
    "        image = cv2.cvtColor(cv2.imread(path), cv2.COLOR_BGR2RGB)\n",
    "    else:  # grayscale format\n",
    "        image = cv2.imread(path, cv2.IMREAD_GRAYSCALE)\n",
    "\n",
    "    # Resize image if desired.\n",
    "    if not size is None:\n",
    "        image = cv2.resize(image, size)\n",
    "\n",
    "    # Convert image to numpy array and scale pixels so they fall between 0.0 and 1.0\n",
    "    image = np.array(image) / 255.0\n",
    "\n",
    "    # Add 1 extra dimension to grayscale images\n",
    "    if (len(image.shape) == 2):\n",
    "        image = np.expand_dims(image, axis=-1)\n",
    "\n",
    "    return image"
   ]
  },
  {
   "cell_type": "code",
   "execution_count": 9,
   "metadata": {},
   "outputs": [],
   "source": [
    "def show_image(idx, train):\n",
    "    \"\"\"\n",
    "    Load and plot an image from the training or validation set\n",
    "    with the given index.\n",
    "    \"\"\"\n",
    "\n",
    "    if train:\n",
    "        # Use an image from the training-set\n",
    "        filename = filenames_train[idx]\n",
    "        captions = captions_train[idx]\n",
    "    else:\n",
    "        # Use an image from the validation-set\n",
    "        filename = filenames_val[idx]\n",
    "        captions = captions_val[idx]\n",
    "\n",
    "    # Path for the image-file.\n",
    "    path = os.path.join(data_dir, filename)\n",
    "\n",
    "    # Print the captions for this image.\n",
    "    for caption in captions:\n",
    "        print(caption)\n",
    "    \n",
    "    # Load the image and plot it.\n",
    "    img = load_image(path)\n",
    "    plt.imshow(img)\n",
    "    plt.show()"
   ]
  },
  {
   "cell_type": "markdown",
   "metadata": {},
   "source": [
    "### Display a sample image"
   ]
  },
  {
   "cell_type": "code",
   "execution_count": 10,
   "metadata": {},
   "outputs": [
    {
     "name": "stdout",
     "output_type": "stream",
     "text": [
      "A professional baseball player in batting stance with bullpen in background.\n",
      "Several uniformed baseball players during a baseball game.\n",
      "A batter, catcher and umpire in a baseball game.\n",
      "A man with a bat stands at a base.\n",
      "Batter winds up ready to hit the baseball\n"
     ]
    },
    {
     "data": {
      "image/png": "[encoded data removed]",
      "text/plain": [
       "<Figure size 432x288 with 1 Axes>"
      ]
     },
     "metadata": {
      "needs_background": "light"
     },
     "output_type": "display_data"
    }
   ],
   "source": [
    "show_image(idx=1, train=True)"
   ]
  },
  {
   "cell_type": "markdown",
   "metadata": {},
   "source": [
    "# Pre-Trained Image Model (VGG16)"
   ]
  },
  {
   "cell_type": "code",
   "execution_count": 11,
   "metadata": {},
   "outputs": [
    {
     "name": "stdout",
     "output_type": "stream",
     "text": [
      "_________________________________________________________________\n",
      "Layer (type)                 Output Shape              Param #   \n",
      "=================================================================\n",
      "input_1 (InputLayer)         (None, 224, 224, 3)       0         \n",
      "_________________________________________________________________\n",
      "block1_conv1 (Conv2D)        (None, 224, 224, 64)      1792      \n",
      "_________________________________________________________________\n",
      "block1_conv2 (Conv2D)        (None, 224, 224, 64)      36928     \n",
      "_________________________________________________________________\n",
      "block1_pool (MaxPooling2D)   (None, 112, 112, 64)      0         \n",
      "_________________________________________________________________\n",
      "block2_conv1 (Conv2D)        (None, 112, 112, 128)     73856     \n",
      "_________________________________________________________________\n",
      "block2_conv2 (Conv2D)        (None, 112, 112, 128)     147584    \n",
      "_________________________________________________________________\n",
      "block2_pool (MaxPooling2D)   (None, 56, 56, 128)       0         \n",
      "_________________________________________________________________\n",
      "block3_conv1 (Conv2D)        (None, 56, 56, 256)       295168    \n",
      "_________________________________________________________________\n",
      "block3_conv2 (Conv2D)        (None, 56, 56, 256)       590080    \n",
      "_________________________________________________________________\n",
      "block3_conv3 (Conv2D)        (None, 56, 56, 256)       590080    \n",
      "_________________________________________________________________\n",
      "block3_pool (MaxPooling2D)   (None, 28, 28, 256)       0         \n",
      "_________________________________________________________________\n",
      "block4_conv1 (Conv2D)        (None, 28, 28, 512)       1180160   \n",
      "_________________________________________________________________\n",
      "block4_conv2 (Conv2D)        (None, 28, 28, 512)       2359808   \n",
      "_________________________________________________________________\n",
      "block4_conv3 (Conv2D)        (None, 28, 28, 512)       2359808   \n",
      "_________________________________________________________________\n",
      "block4_pool (MaxPooling2D)   (None, 14, 14, 512)       0         \n",
      "_________________________________________________________________\n",
      "block5_conv1 (Conv2D)        (None, 14, 14, 512)       2359808   \n",
      "_________________________________________________________________\n",
      "block5_conv2 (Conv2D)        (None, 14, 14, 512)       2359808   \n",
      "_________________________________________________________________\n",
      "block5_conv3 (Conv2D)        (None, 14, 14, 512)       2359808   \n",
      "_________________________________________________________________\n",
      "block5_pool (MaxPooling2D)   (None, 7, 7, 512)         0         \n",
      "_________________________________________________________________\n",
      "flatten (Flatten)            (None, 25088)             0         \n",
      "_________________________________________________________________\n",
      "fc1 (Dense)                  (None, 4096)              102764544 \n",
      "_________________________________________________________________\n",
      "fc2 (Dense)                  (None, 4096)              16781312  \n",
      "_________________________________________________________________\n",
      "predictions (Dense)          (None, 1000)              4097000   \n",
      "=================================================================\n",
      "Total params: 138,357,544\n",
      "Trainable params: 138,357,544\n",
      "Non-trainable params: 0\n",
      "_________________________________________________________________\n"
     ]
    }
   ],
   "source": [
    "# Download VGG16 model along with the fully-connected layers\n",
    "image_model = VGG16(include_top=True, weights='imagenet')\n",
    "image_model.summary()"
   ]
  },
  {
   "cell_type": "code",
   "execution_count": 12,
   "metadata": {},
   "outputs": [],
   "source": [
    "# Extract the second last layer which is a fully-connected layer\n",
    "transfer_layer = image_model.get_layer('fc2')"
   ]
  },
  {
   "cell_type": "code",
   "execution_count": 13,
   "metadata": {},
   "outputs": [],
   "source": [
    "# Create the encoder model\n",
    "image_model_transfer = Model(inputs=image_model.input, outputs=transfer_layer.output)"
   ]
  },
  {
   "cell_type": "code",
   "execution_count": 14,
   "metadata": {},
   "outputs": [
    {
     "data": {
      "text/plain": [
       "(224, 224)"
      ]
     },
     "execution_count": 14,
     "metadata": {},
     "output_type": "execute_result"
    }
   ],
   "source": [
    "# Get the expected input size of the pre-trained network\n",
    "img_size = K.int_shape(image_model.input)[1:3]\n",
    "img_size"
   ]
  },
  {
   "cell_type": "code",
   "execution_count": 15,
   "metadata": {},
   "outputs": [
    {
     "data": {
      "text/plain": [
       "4096"
      ]
     },
     "execution_count": 15,
     "metadata": {},
     "output_type": "execute_result"
    }
   ],
   "source": [
    "# Get the expected output shape of the pre-trained network\n",
    "transfer_values_size = K.int_shape(transfer_layer.output)[1]\n",
    "transfer_values_size"
   ]
  },
  {
   "cell_type": "markdown",
   "metadata": {},
   "source": [
    "### Process Images"
   ]
  },
  {
   "cell_type": "code",
   "execution_count": 16,
   "metadata": {},
   "outputs": [],
   "source": [
    "def print_progress_bar(iteration, total):\n",
    "    percent = (\"{0:.1f}\").format(100 * (iteration / float(total)))\n",
    "    filled_length = int(100 * iteration // total)\n",
    "    bar = '█' * filled_length + '-' * (100 - filled_length)\n",
    "    print('\\r |%s| %s%% ' % (bar, percent), end = '\\r')\n",
    "    # Print New Line on Complete\n",
    "    if iteration == total: \n",
    "        print()"
   ]
  },
  {
   "cell_type": "code",
   "execution_count": 17,
   "metadata": {},
   "outputs": [],
   "source": [
    "def process_images(data_dir, filenames, batch_size=32):\n",
    "    \"\"\"\n",
    "    Process all the given files in the given data_dir using the\n",
    "    pre-trained image-model and return their transfer-values.\n",
    "    \n",
    "    The images are processed in batches to save\n",
    "    memory and improve efficiency.\n",
    "    \"\"\"\n",
    "    \n",
    "    # Number of images to process.\n",
    "    num_images = len(filenames)\n",
    "\n",
    "    # Pre-allocate input-batch-array for images.\n",
    "    shape = (batch_size,) + img_size + (3,)\n",
    "    image_batch = np.zeros(shape=shape, dtype=np.float32)\n",
    "\n",
    "    # Pre-allocate output-array for transfer-values.\n",
    "    shape = (num_images, transfer_values_size)\n",
    "    transfer_values = np.zeros(shape=shape, dtype=np.float32)\n",
    "\n",
    "    # Initialize index into the filenames.\n",
    "    start_index = 0\n",
    "\n",
    "    # Process batches of image-files.\n",
    "    while start_index < num_images:\n",
    "        # Print the percentage-progress.\n",
    "        print_progress_bar(start_index, num_images)\n",
    "\n",
    "        # End-index for this batch.\n",
    "        end_index = start_index + batch_size\n",
    "\n",
    "        # Ensure end-index is within bounds.\n",
    "        if end_index > num_images:\n",
    "            end_index = num_images\n",
    "\n",
    "        # The last batch may have a different batch-size.\n",
    "        current_batch_size = end_index - start_index\n",
    "\n",
    "        # Load all the images in the batch.\n",
    "        for i, filename in enumerate(filenames[start_index:end_index]):\n",
    "            # Path for the image-file.\n",
    "            path = os.path.join(data_dir, filename)\n",
    "            \n",
    "            # Load and resize the image.\n",
    "            # This returns the image as a numpy-array.\n",
    "            img = load_image(path, size=img_size)\n",
    "\n",
    "            # Save the image for later use.\n",
    "            image_batch[i] = img\n",
    "\n",
    "        # Use the pre-trained image-model to process the image.\n",
    "        # Note that the last batch may have a different size,\n",
    "        # so we only use the relevant images.\n",
    "        transfer_values_batch = \\\n",
    "            image_model_transfer.predict(image_batch[0:current_batch_size])\n",
    "\n",
    "        # Save the transfer-values in the pre-allocated array.\n",
    "        transfer_values[start_index:end_index] = \\\n",
    "            transfer_values_batch[0:current_batch_size]\n",
    "\n",
    "        # Increase the index for the next loop-iteration.\n",
    "        start_index = end_index\n",
    "\n",
    "    # Print newline.\n",
    "    print()\n",
    "\n",
    "    return transfer_values"
   ]
  },
  {
   "cell_type": "code",
   "execution_count": 18,
   "metadata": {},
   "outputs": [],
   "source": [
    "def process_images_train():\n",
    "    print('Processing {0} images in training-set ...'.format(len(filenames_train)))\n",
    "\n",
    "    # Path for the cache-file.\n",
    "    cache_path = os.path.join(data_dir, 'transfer_values_train.pkl')\n",
    "\n",
    "    # If the cache-file already exists then reload it,\n",
    "    # otherwise process all images and save their transfer-values\n",
    "    # to the cache-file so it can be reloaded quickly.\n",
    "    transfer_values = cache(\n",
    "        cache_path=cache_path,\n",
    "        fn=process_images,\n",
    "        data_dir=data_dir,\n",
    "        filenames=filenames_train\n",
    "    )\n",
    "\n",
    "    return transfer_values"
   ]
  },
  {
   "cell_type": "code",
   "execution_count": 19,
   "metadata": {},
   "outputs": [],
   "source": [
    "def process_images_val():\n",
    "    print('Processing {0} images in validation-set ...'.format(len(filenames_val)))\n",
    "\n",
    "    # Path for the cache-file.\n",
    "    cache_path = os.path.join(data_dir, 'transfer_values_val.pkl')\n",
    "\n",
    "    # If the cache-file already exists then reload it,\n",
    "    # otherwise process all images and save their transfer-values\n",
    "    # to the cache-file so it can be reloaded quickly.\n",
    "    transfer_values = cache(\n",
    "        cache_path=cache_path,\n",
    "        fn=process_images,\n",
    "        data_dir=data_dir,\n",
    "        filenames=filenames_val\n",
    "    )\n",
    "\n",
    "    return transfer_values"
   ]
  },
  {
   "cell_type": "code",
   "execution_count": 20,
   "metadata": {},
   "outputs": [
    {
     "name": "stdout",
     "output_type": "stream",
     "text": [
      "Processing 19324 images in training-set ...\n",
      "- Data loaded from cache-file: dataset/transfer_values_train.pkl\n",
      "dtype: float32\n",
      "shape: (19324, 4096)\n",
      "CPU times: user 117 ms, sys: 437 ms, total: 555 ms\n",
      "Wall time: 550 ms\n"
     ]
    }
   ],
   "source": [
    "%%time\n",
    "transfer_values_train = process_images_train()\n",
    "print(\"dtype:\", transfer_values_train.dtype)\n",
    "print(\"shape:\", transfer_values_train.shape)"
   ]
  },
  {
   "cell_type": "code",
   "execution_count": 21,
   "metadata": {},
   "outputs": [
    {
     "name": "stdout",
     "output_type": "stream",
     "text": [
      "Processing 4832 images in validation-set ...\n",
      "- Data loaded from cache-file: dataset/transfer_values_val.pkl\n",
      "dtype: float32\n",
      "shape: (4832, 4096)\n",
      "CPU times: user 27 ms, sys: 102 ms, total: 129 ms\n",
      "Wall time: 126 ms\n"
     ]
    }
   ],
   "source": [
    "%%time\n",
    "transfer_values_val = process_images_val()\n",
    "print(\"dtype:\", transfer_values_val.dtype)\n",
    "print(\"shape:\", transfer_values_val.shape)"
   ]
  },
  {
   "cell_type": "markdown",
   "metadata": {},
   "source": [
    "# Tokenizer"
   ]
  },
  {
   "cell_type": "code",
   "execution_count": 34,
   "metadata": {},
   "outputs": [],
   "source": [
    "mark_start = 'ssss '\n",
    "mark_end = ' eeee'"
   ]
  },
  {
   "cell_type": "code",
   "execution_count": 35,
   "metadata": {},
   "outputs": [],
   "source": [
    "def mark_captions(captions_list):\n",
    "    \"\"\" Mark all the captions with the start and the end marker \"\"\"\n",
    "    captions_marked = [\n",
    "        [mark_start + caption + mark_end for caption in captions] for captions in captions_list\n",
    "    ]\n",
    "    \n",
    "    return captions_marked"
   ]
  },
  {
   "cell_type": "code",
   "execution_count": 36,
   "metadata": {},
   "outputs": [
    {
     "name": "stdout",
     "output_type": "stream",
     "text": [
      "Marked captions:\n"
     ]
    },
    {
     "data": {
      "text/plain": [
       "['ssss A woman skiing in the snow followed by more skiers. eeee',\n",
       " 'ssss The skiers are all lined up single file. eeee',\n",
       " 'ssss A group of skiers in a line skiing down the road. eeee',\n",
       " 'ssss A line of young skiers ski down a gentle slope. eeee',\n",
       " 'ssss A girl skis first in a line of skiers. eeee']"
      ]
     },
     "execution_count": 36,
     "metadata": {},
     "output_type": "execute_result"
    }
   ],
   "source": [
    "captions_train_marked = mark_captions(captions_train)\n",
    "print('Marked captions:')\n",
    "captions_train_marked[0]"
   ]
  },
  {
   "cell_type": "code",
   "execution_count": 37,
   "metadata": {},
   "outputs": [
    {
     "name": "stdout",
     "output_type": "stream",
     "text": [
      "\n",
      "Original captions:\n"
     ]
    },
    {
     "data": {
      "text/plain": [
       "['A woman skiing in the snow followed by more skiers.',\n",
       " 'The skiers are all lined up single file.',\n",
       " 'A group of skiers in a line skiing down the road.',\n",
       " 'A line of young skiers ski down a gentle slope.',\n",
       " 'A girl skis first in a line of skiers.']"
      ]
     },
     "execution_count": 37,
     "metadata": {},
     "output_type": "execute_result"
    }
   ],
   "source": [
    "print('\\nOriginal captions:')\n",
    "captions_train[0]"
   ]
  },
  {
   "cell_type": "code",
   "execution_count": 38,
   "metadata": {},
   "outputs": [],
   "source": [
    "def flatten(captions_list):\n",
    "    \"\"\" Flatten all the captions into a single list \"\"\"\n",
    "    caption_list = [caption\n",
    "                    for caption_list in captions_list\n",
    "                    for caption in caption_list]\n",
    "    \n",
    "    return caption_list"
   ]
  },
  {
   "cell_type": "code",
   "execution_count": 39,
   "metadata": {},
   "outputs": [],
   "source": [
    "captions_train_flat = flatten(captions_train_marked)"
   ]
  },
  {
   "cell_type": "code",
   "execution_count": 40,
   "metadata": {},
   "outputs": [],
   "source": [
    "# Maximum number of most-frequent words to be considered from the training data\n",
    "num_words = 10000"
   ]
  },
  {
   "cell_type": "code",
   "execution_count": 41,
   "metadata": {},
   "outputs": [],
   "source": [
    "class TokenizerWrap(Tokenizer):\n",
    "    \"\"\"Wrap the Tokenizer-class from Keras with more functionality.\"\"\"\n",
    "    \n",
    "    def __init__(self, texts, num_words=None):\n",
    "        \"\"\"\n",
    "        :param texts: List of strings with the data-set.\n",
    "        :param num_words: Max number of words to use.\n",
    "        \"\"\"\n",
    "\n",
    "        Tokenizer.__init__(self, num_words=num_words)\n",
    "\n",
    "        # Create the vocabulary from the texts.\n",
    "        self.fit_on_texts(texts)\n",
    "\n",
    "        # Create inverse lookup from integer-tokens to words.\n",
    "        self.index_to_word = dict(zip(\n",
    "            self.word_index.values(), self.word_index.keys()\n",
    "        ))\n",
    "\n",
    "    def token_to_word(self, token):\n",
    "        \"\"\"Lookup a single word from an integer-token.\"\"\"\n",
    "\n",
    "        word = \" \" if token == 0 else self.index_to_word[token]\n",
    "        return word \n",
    "\n",
    "    def tokens_to_string(self, tokens):\n",
    "        \"\"\"Convert a list of integer-tokens to a string.\"\"\"\n",
    "\n",
    "        # Create a list of the individual words.\n",
    "        words = [self.index_to_word[token] for token in tokens if token != 0]\n",
    "        \n",
    "        # Concatenate the words to a single string\n",
    "        # with space between all the words.\n",
    "        text = \" \".join(words)\n",
    "\n",
    "        return text\n",
    "    \n",
    "    def captions_to_tokens(self, captions_list):\n",
    "        \"\"\"\n",
    "        Convert a list-of-list with text-captions to\n",
    "        a list-of-list of integer-tokens.\n",
    "        \"\"\"\n",
    "        \n",
    "        # Note that text_to_sequences() takes a list of texts.\n",
    "        tokens = [self.texts_to_sequences(caption_list) for caption_list in captions_list]\n",
    "        \n",
    "        return tokens"
   ]
  },
  {
   "cell_type": "markdown",
   "metadata": {},
   "source": [
    "Create the tokenizer"
   ]
  },
  {
   "cell_type": "code",
   "execution_count": 42,
   "metadata": {},
   "outputs": [
    {
     "name": "stdout",
     "output_type": "stream",
     "text": [
      "CPU times: user 1.67 s, sys: 4.01 ms, total: 1.67 s\n",
      "Wall time: 1.67 s\n"
     ]
    }
   ],
   "source": [
    "%%time\n",
    "tokenizer = TokenizerWrap(texts=captions_train_flat, num_words=num_words)"
   ]
  },
  {
   "cell_type": "code",
   "execution_count": 43,
   "metadata": {},
   "outputs": [
    {
     "data": {
      "text/plain": [
       "2"
      ]
     },
     "execution_count": 43,
     "metadata": {},
     "output_type": "execute_result"
    }
   ],
   "source": [
    "# Get integer token for the start marker\n",
    "token_start = tokenizer.word_index[mark_start.strip()]\n",
    "token_start"
   ]
  },
  {
   "cell_type": "code",
   "execution_count": 44,
   "metadata": {},
   "outputs": [
    {
     "data": {
      "text/plain": [
       "3"
      ]
     },
     "execution_count": 44,
     "metadata": {},
     "output_type": "execute_result"
    }
   ],
   "source": [
    "# Get integer token for the end marker\n",
    "token_end = tokenizer.word_index[mark_end.strip()]\n",
    "token_end"
   ]
  },
  {
   "cell_type": "markdown",
   "metadata": {},
   "source": [
    "Convert all the captions from the training-set to sequence of integer tokens."
   ]
  },
  {
   "cell_type": "code",
   "execution_count": 45,
   "metadata": {},
   "outputs": [
    {
     "name": "stdout",
     "output_type": "stream",
     "text": [
      "CPU times: user 1.76 s, sys: 20.9 ms, total: 1.78 s\n",
      "Wall time: 1.78 s\n"
     ]
    }
   ],
   "source": [
    "%%time\n",
    "tokens_train = tokenizer.captions_to_tokens(captions_train_marked)"
   ]
  },
  {
   "cell_type": "code",
   "execution_count": 47,
   "metadata": {},
   "outputs": [
    {
     "name": "stdout",
     "output_type": "stream",
     "text": [
      "Token sequences for the first image in the training-set:\n"
     ]
    },
    {
     "data": {
      "text/plain": [
       "[[2, 1, 30, 61, 6, 4, 24, 1530, 108, 1582, 115, 3],\n",
       " [2, 4, 115, 32, 307, 499, 51, 629, 1714, 3],\n",
       " [2, 1, 36, 8, 115, 6, 1, 304, 61, 33, 4, 226, 3],\n",
       " [2, 1, 304, 8, 27, 115, 64, 33, 1, 1057, 57, 3],\n",
       " [2, 1, 73, 43, 510, 6, 1, 304, 8, 115, 3]]"
      ]
     },
     "execution_count": 47,
     "metadata": {},
     "output_type": "execute_result"
    }
   ],
   "source": [
    "print('Token sequences for the first image in the training-set:')\n",
    "tokens_train[0]"
   ]
  },
  {
   "cell_type": "code",
   "execution_count": 48,
   "metadata": {},
   "outputs": [
    {
     "name": "stdout",
     "output_type": "stream",
     "text": [
      "\n",
      "Corresponding captions:\n"
     ]
    },
    {
     "data": {
      "text/plain": [
       "['ssss A woman skiing in the snow followed by more skiers. eeee',\n",
       " 'ssss The skiers are all lined up single file. eeee',\n",
       " 'ssss A group of skiers in a line skiing down the road. eeee',\n",
       " 'ssss A line of young skiers ski down a gentle slope. eeee',\n",
       " 'ssss A girl skis first in a line of skiers. eeee']"
      ]
     },
     "execution_count": 48,
     "metadata": {},
     "output_type": "execute_result"
    }
   ],
   "source": [
    "print('\\nCorresponding captions:')\n",
    "captions_train_marked[0]"
   ]
  },
  {
   "cell_type": "markdown",
   "metadata": {},
   "source": [
    "# Data Generator\n",
    "\n",
    "Each image in the training-set has at least 5 captions describing the contents of the image. The neural network will be trained with batches of transfer-values for the images and sequences of integer-tokens for the captions. If we were to have matching numpy arrays for the training-set, we would either have to only use a single caption for each image and ignore the rest of this valuable data, or we would have to repeat the image transfer-values for each of the captions, which would waste a lot of memory.\n",
    "\n",
    "A better solution is to create a custom data-generator for Keras that will create a batch of data with randomly selected transfer-values and token-sequences.\n",
    "\n",
    "This helper-function returns a list of random token-sequences for the images with the given indices in the training-set."
   ]
  },
  {
   "cell_type": "code",
   "execution_count": 53,
   "metadata": {},
   "outputs": [],
   "source": [
    "def get_random_caption_tokens(idx):\n",
    "    \"\"\"\n",
    "    Given a list of indices for images in the training-set,\n",
    "    select a token-sequence for a random caption,\n",
    "    and return a list of all these token-sequences.\n",
    "    \"\"\"\n",
    "    \n",
    "    # Initialize an empty list for the results.\n",
    "    result = []\n",
    "\n",
    "    # For each of the indices.\n",
    "    for i in idx:\n",
    "        # The index i points to an image in the training-set.\n",
    "        # Each image in the training-set has at least 5 captions\n",
    "        # which have been converted to tokens in tokens_train.\n",
    "        # We want to select one of these token-sequences at random.\n",
    "\n",
    "        # Get a random index for a token-sequence.\n",
    "        j = np.random.choice(len(tokens_train[i]))\n",
    "\n",
    "        # Get the j'th token-sequence for image i.\n",
    "        tokens = tokens_train[i][j]\n",
    "\n",
    "        # Add this token-sequence to the list of results.\n",
    "        result.append(tokens)\n",
    "\n",
    "    return result"
   ]
  },
  {
   "cell_type": "code",
   "execution_count": 54,
   "metadata": {},
   "outputs": [],
   "source": [
    "def batch_generator(batch_size):\n",
    "    \"\"\"\n",
    "    Generator function for creating random batches of training-data.\n",
    "    \n",
    "    Note that it selects the data completely randomly for each\n",
    "    batch, corresponding to sampling of the training-set with\n",
    "    replacement. This means it is possible to sample the same\n",
    "    data multiple times within a single epoch - and it is also\n",
    "    possible that some data is not sampled at all within an epoch.\n",
    "    However, all the data should be unique within a single batch.\n",
    "    \"\"\"\n",
    "\n",
    "    # Infinite loop.\n",
    "    while True:\n",
    "        # Get a list of random indices for images in the training-set.\n",
    "        idx = np.random.randint(num_images_train, size=batch_size)\n",
    "        \n",
    "        # Get the pre-computed transfer-values for those images.\n",
    "        # These are the outputs of the pre-trained image-model.\n",
    "        transfer_values = transfer_values_train[idx]\n",
    "\n",
    "        # For each of the randomly chosen images there are\n",
    "        # at least 5 captions describing the contents of the image.\n",
    "        # Select one of those captions at random and get the\n",
    "        # associated sequence of integer-tokens.\n",
    "        tokens = get_random_caption_tokens(idx)\n",
    "\n",
    "        # Count the number of tokens in all these token-sequences.\n",
    "        num_tokens = [len(t) for t in tokens]\n",
    "        \n",
    "        # Max number of tokens.\n",
    "        max_tokens = np.max(num_tokens)\n",
    "        \n",
    "        # Pad all the other token-sequences with zeros\n",
    "        # so they all have the same length and can be\n",
    "        # input to the neural network as a numpy array.\n",
    "        tokens_padded = pad_sequences(\n",
    "            tokens,\n",
    "            maxlen=max_tokens,\n",
    "            padding='post',\n",
    "            truncating='post'\n",
    "        )\n",
    "        \n",
    "        # Further prepare the token-sequences.\n",
    "        # The decoder-part of the neural network\n",
    "        # will try to map the token-sequences to\n",
    "        # themselves shifted one time-step.\n",
    "        decoder_input_data = tokens_padded[:, 0:-1]\n",
    "        decoder_output_data = tokens_padded[:, 1:]\n",
    "\n",
    "        # Dict for the input-data. Because we have\n",
    "        # several inputs, we use a named dict to\n",
    "        # ensure that the data is assigned correctly.\n",
    "        x_data = {\n",
    "            'decoder_input': decoder_input_data,\n",
    "            'transfer_values_input': transfer_values\n",
    "        }\n",
    "\n",
    "        # Dict for the output-data.\n",
    "        y_data = {\n",
    "            'decoder_output': decoder_output_data\n",
    "        }\n",
    "        \n",
    "        yield (x_data, y_data)"
   ]
  },
  {
   "cell_type": "code",
   "execution_count": 55,
   "metadata": {},
   "outputs": [],
   "source": [
    "batch_size = 128\n",
    "generator = batch_generator(batch_size=batch_size)\n",
    "batch = next(generator)\n",
    "batch_x = batch[0]\n",
    "batch_y = batch[1]"
   ]
  },
  {
   "cell_type": "code",
   "execution_count": 56,
   "metadata": {},
   "outputs": [
    {
     "data": {
      "text/plain": [
       "array([-0.        ,  0.16082239,  1.719369  , ..., -0.        ,\n",
       "       -0.        ,  0.8369916 ], dtype=float32)"
      ]
     },
     "execution_count": 56,
     "metadata": {},
     "output_type": "execute_result"
    }
   ],
   "source": [
    "# Example of the transfer-values for the first image in the batch\n",
    "batch_x['transfer_values_input'][0]"
   ]
  },
  {
   "cell_type": "code",
   "execution_count": 57,
   "metadata": {},
   "outputs": [
    {
     "data": {
      "text/plain": [
       "array([ 2,  1, 11, 16, 90,  5, 53,  8,  1, 11, 48,  3,  0,  0,  0,  0,  0,\n",
       "        0,  0,  0,  0,  0,  0,  0], dtype=int32)"
      ]
     },
     "execution_count": 57,
     "metadata": {},
     "output_type": "execute_result"
    }
   ],
   "source": [
    "# Example of the token-sequence for the first image in the batch\n",
    "# This is the input to the decoder-part of the neural network\n",
    "batch_x['decoder_input'][0]"
   ]
  },
  {
   "cell_type": "code",
   "execution_count": 58,
   "metadata": {},
   "outputs": [
    {
     "data": {
      "text/plain": [
       "array([ 1, 11, 16, 90,  5, 53,  8,  1, 11, 48,  3,  0,  0,  0,  0,  0,  0,\n",
       "        0,  0,  0,  0,  0,  0,  0], dtype=int32)"
      ]
     },
     "execution_count": 58,
     "metadata": {},
     "output_type": "execute_result"
    }
   ],
   "source": [
    "# This is the token-sequence for the output of the decoder\n",
    "# Note how it is the same as the sequence above, except it is shifted one time-step\n",
    "batch_y['decoder_output'][0]"
   ]
  },
  {
   "cell_type": "markdown",
   "metadata": {},
   "source": [
    "## Steps Per Epoch\n",
    "\n",
    "One epoch is a complete processing of the training-set. We would like to process each image and caption pair only once per epoch. However, because each batch is chosen completely at random in the above batch-generator, it is possible that an image occurs in multiple batches within a single epoch, and it is possible that some images may not occur in any batch at all within a single epoch.\n",
    "\n",
    "Nevertheless, we still use the concept of an 'epoch' to measure approximately how many iterations of the training-data we have processed. But the data-generator will generate batches for eternity, so we need to manually calculate the approximate number of batches required per epoch."
   ]
  },
  {
   "cell_type": "code",
   "execution_count": 59,
   "metadata": {},
   "outputs": [
    {
     "data": {
      "text/plain": [
       "755"
      ]
     },
     "execution_count": 59,
     "metadata": {},
     "output_type": "execute_result"
    }
   ],
   "source": [
    "# Number of captions for each image in the training-set\n",
    "num_captions_train = [len(captions) for captions in captions_train]\n",
    "\n",
    "# Total number of captions in the training-set\n",
    "total_num_captions_train = np.sum(num_captions_train)\n",
    "\n",
    "# Approximate number of batches required per epoch,\n",
    "# if we want to process each caption and image pair once per epoch\n",
    "steps_per_epoch = int(total_num_captions_train / batch_size)\n",
    "steps_per_epoch"
   ]
  },
  {
   "cell_type": "markdown",
   "metadata": {},
   "source": [
    "# Recurrent Neural Network"
   ]
  },
  {
   "cell_type": "markdown",
   "metadata": {},
   "source": [
    "## Embedding Layer"
   ]
  },
  {
   "cell_type": "code",
   "execution_count": 51,
   "metadata": {},
   "outputs": [],
   "source": [
    "def read_glove_vecs(glove_file):\n",
    "    print('Creating word to vec map...')\n",
    "    with open(glove_file, 'r') as f:\n",
    "        words = set()\n",
    "        word_to_vec_map = {}\n",
    "        for line in f:\n",
    "            line = line.strip().split()\n",
    "            curr_word = line[0]\n",
    "            words.add(curr_word)\n",
    "            word_to_vec_map[curr_word] = np.array(line[1:], dtype=np.float32)\n",
    "    print('Done!')\n",
    "    return word_to_vec_map"
   ]
  },
  {
   "cell_type": "code",
   "execution_count": 52,
   "metadata": {
    "scrolled": true
   },
   "outputs": [
    {
     "name": "stdout",
     "output_type": "stream",
     "text": [
      "Creating word to vec map...\n",
      "Done!\n"
     ]
    }
   ],
   "source": [
    "# load embeddings\n",
    "word_to_vec_map = read_glove_vecs('{}/glove.6B.100d.txt'.format(data_dir))"
   ]
  },
  {
   "cell_type": "code",
   "execution_count": 60,
   "metadata": {},
   "outputs": [],
   "source": [
    "# assign embeddings values to custom tokens\n",
    "size = word_to_vec_map['unk'].shape\n",
    "\n",
    "word_to_vec_map[mark_start.strip()] = np.random.uniform(low=-1.0, high=1.0, size=size)\n",
    "word_to_vec_map[mark_end.strip()] = np.random.uniform(low=-1.0, high=1.0, size=size)"
   ]
  },
  {
   "cell_type": "code",
   "execution_count": 66,
   "metadata": {},
   "outputs": [],
   "source": [
    "def create_embedding_layer(word_to_index, word_to_vec_map, num_words):\n",
    "    \"\"\" Create a Keras Embedding() layer and load in pre-trained GloVe 100-dimensional vectors\n",
    "        @params:\n",
    "        :word_to_index -- dictionary containing the each word mapped to its index\n",
    "        :word_to_vec_map -- dictionary mapping words to their GloVe vector representation\n",
    "        :num_words -- number of words in the vocabulary\n",
    "        \n",
    "        @return:\n",
    "        :decoder_embedding -- pretrained layer Keras instance\n",
    "    \"\"\"\n",
    "    \n",
    "    vocabulary_length = num_words + 1  # adding 1 to fit Keras embedding (requirement)\n",
    "    embedding_dimensions = word_to_vec_map['unk'].shape[0]  # define dimensionality of GloVe word vectors (= 100)\n",
    "    \n",
    "    embedding_matrix = np.zeros((vocabulary_length, embedding_dimensions))  # initialize with zeros\n",
    "    for word, index in word_to_index.items():\n",
    "        try:\n",
    "            embedding_matrix[index, :] = word_to_vec_map[word]\n",
    "        except KeyError:\n",
    "            embedding_matrix[index, :] = word_to_vec_map['unk']\n",
    "    \n",
    "    # we don't want the embeddings to be updated, thus trainable parameter is set to False\n",
    "    decoder_embedding = Embedding(\n",
    "        input_dim=vocabulary_length,\n",
    "        output_dim=embedding_dimensions,\n",
    "        trainable=False,\n",
    "        name='decoder_embedding'\n",
    "    )\n",
    "    decoder_embedding.build((None,))\n",
    "    decoder_embedding.set_weights([embedding_matrix])  # with this the layer is now pretrained\n",
    "    \n",
    "    return decoder_embedding"
   ]
  },
  {
   "cell_type": "markdown",
   "metadata": {},
   "source": [
    "## Create RNN"
   ]
  },
  {
   "cell_type": "code",
   "execution_count": 62,
   "metadata": {},
   "outputs": [],
   "source": [
    "# Internal state-sizes of GRUs\n",
    "state_size = 512"
   ]
  },
  {
   "cell_type": "code",
   "execution_count": 63,
   "metadata": {},
   "outputs": [],
   "source": [
    "# This inputs transfer-values to the decoder\n",
    "transfer_values_input = Input(shape=(transfer_values_size,), name='transfer_values_input')"
   ]
  },
  {
   "cell_type": "markdown",
   "metadata": {},
   "source": [
    "The transfer-values are used to initialize the internal states of the GRU units. This informs the GRU units of the contents of the images. The transfer-values are vectors of length 4096 but the size of the internal states of the GRU units are only 512, so fully-connected layer is used to map the vectors from 4096 to 512 elements."
   ]
  },
  {
   "cell_type": "code",
   "execution_count": 64,
   "metadata": {},
   "outputs": [],
   "source": [
    "decoder_transfer_map = Dense(state_size,\n",
    "                             activation='tanh',\n",
    "                             name='decoder_transfer_map')"
   ]
  },
  {
   "cell_type": "code",
   "execution_count": 65,
   "metadata": {},
   "outputs": [],
   "source": [
    "# Input for token-sequences to the decoder\n",
    "# Using 'None' in the shape means that the token-sequences can have arbitrary lengths\n",
    "decoder_input = Input(shape=(None, ), name='decoder_input')"
   ]
  },
  {
   "cell_type": "code",
   "execution_count": 67,
   "metadata": {},
   "outputs": [],
   "source": [
    "# Embedding-layer which converts sequences of integer-tokens to sequences of vectors\n",
    "decoder_embedding = create_embedding_layer(tokenizer.word_index, word_to_vec_map, num_words)"
   ]
  },
  {
   "cell_type": "code",
   "execution_count": 68,
   "metadata": {},
   "outputs": [],
   "source": [
    "# The 3 GRU layers of the decoder\n",
    "decoder_gru1 = GRU(state_size, name='decoder_gru1',\n",
    "                   return_sequences=True)\n",
    "decoder_gru2 = GRU(state_size, name='decoder_gru2',\n",
    "                   return_sequences=True)\n",
    "decoder_gru3 = GRU(state_size, name='decoder_gru3',\n",
    "                   return_sequences=True)"
   ]
  },
  {
   "cell_type": "markdown",
   "metadata": {},
   "source": [
    "The GRU layers output a tensor with shape `[batch_size, sequence_length, state_size]`, where each \"word\" is encoded as a vector of length `state_size`. We need to convert this into sequences of integer-tokens that can be interpreted as words from our vocabulary.\n",
    "\n",
    "Note that the activation-function is set to `linear` instead of `softmax` as we would normally use for one-hot encoded outputs, because there is apparently a bug in Keras so we need to make our own loss-function, as described in detail further below."
   ]
  },
  {
   "cell_type": "code",
   "execution_count": 69,
   "metadata": {},
   "outputs": [],
   "source": [
    "decoder_dense = Dense(num_words,\n",
    "                      activation='linear',\n",
    "                      name='decoder_output')"
   ]
  },
  {
   "cell_type": "markdown",
   "metadata": {},
   "source": [
    "### Attention Mechanism"
   ]
  },
  {
   "cell_type": "code",
   "execution_count": null,
   "metadata": {},
   "outputs": [],
   "source": [
    "# TODO: Add attention"
   ]
  },
  {
   "cell_type": "markdown",
   "metadata": {},
   "source": [
    "# Connect and Create the Training Model"
   ]
  },
  {
   "cell_type": "code",
   "execution_count": 70,
   "metadata": {},
   "outputs": [],
   "source": [
    "def connect_decoder(transfer_values):\n",
    "    # Map the transfer-values so the dimensionality matches\n",
    "    # the internal state of the GRU layers. This means\n",
    "    # we can use the mapped transfer-values as the initial state\n",
    "    # of the GRU layers.\n",
    "    initial_state = decoder_transfer_map(transfer_values)\n",
    "\n",
    "    # Start the decoder-network with its input-layer.\n",
    "    net = decoder_input\n",
    "    \n",
    "    # Connect the embedding-layer.\n",
    "    net = decoder_embedding(net)\n",
    "    \n",
    "    # Connect all the GRU layers.\n",
    "    net = decoder_gru1(net, initial_state=initial_state)\n",
    "    net = decoder_gru2(net, initial_state=initial_state)\n",
    "    net = decoder_gru3(net, initial_state=initial_state)\n",
    "\n",
    "    # Connect the final dense layer that converts to\n",
    "    # one-hot encoded arrays.\n",
    "    decoder_output = decoder_dense(net)\n",
    "    \n",
    "    return decoder_output"
   ]
  },
  {
   "cell_type": "code",
   "execution_count": 71,
   "metadata": {},
   "outputs": [],
   "source": [
    "decoder_output = connect_decoder(transfer_values=transfer_values_input)\n",
    "\n",
    "decoder_model = Model(\n",
    "    inputs=[transfer_values_input, decoder_input],\n",
    "    outputs=[decoder_output]\n",
    ")"
   ]
  },
  {
   "cell_type": "code",
   "execution_count": 72,
   "metadata": {},
   "outputs": [
    {
     "name": "stdout",
     "output_type": "stream",
     "text": [
      "__________________________________________________________________________________________________\n",
      "Layer (type)                    Output Shape         Param #     Connected to                     \n",
      "==================================================================================================\n",
      "decoder_input (InputLayer)      (None, None)         0                                            \n",
      "__________________________________________________________________________________________________\n",
      "transfer_values_input (InputLay (None, 4096)         0                                            \n",
      "__________________________________________________________________________________________________\n",
      "decoder_embedding (Embedding)   (None, None, 100)    1000100     decoder_input[0][0]              \n",
      "__________________________________________________________________________________________________\n",
      "decoder_transfer_map (Dense)    (None, 512)          2097664     transfer_values_input[0][0]      \n",
      "__________________________________________________________________________________________________\n",
      "decoder_gru1 (GRU)              (None, None, 512)    941568      decoder_embedding[0][0]          \n",
      "                                                                 decoder_transfer_map[0][0]       \n",
      "__________________________________________________________________________________________________\n",
      "decoder_gru2 (GRU)              (None, None, 512)    1574400     decoder_gru1[0][0]               \n",
      "                                                                 decoder_transfer_map[0][0]       \n",
      "__________________________________________________________________________________________________\n",
      "decoder_gru3 (GRU)              (None, None, 512)    1574400     decoder_gru2[0][0]               \n",
      "                                                                 decoder_transfer_map[0][0]       \n",
      "__________________________________________________________________________________________________\n",
      "decoder_output (Dense)          (None, None, 10000)  5130000     decoder_gru3[0][0]               \n",
      "==================================================================================================\n",
      "Total params: 12,318,132\n",
      "Trainable params: 11,318,032\n",
      "Non-trainable params: 1,000,100\n",
      "__________________________________________________________________________________________________\n"
     ]
    }
   ],
   "source": [
    "decoder_model.summary()"
   ]
  },
  {
   "cell_type": "markdown",
   "metadata": {},
   "source": [
    "### Loss Function"
   ]
  },
  {
   "cell_type": "code",
   "execution_count": 73,
   "metadata": {},
   "outputs": [],
   "source": [
    "def sparse_cross_entropy(y_true, y_pred):\n",
    "    \"\"\"\n",
    "    Calculate the cross-entropy loss between y_true and y_pred.\n",
    "    \n",
    "    y_true is a 2-rank tensor with the desired output.\n",
    "    The shape is [batch_size, sequence_length] and it\n",
    "    contains sequences of integer-tokens.\n",
    "\n",
    "    y_pred is the decoder's output which is a 3-rank tensor\n",
    "    with shape [batch_size, sequence_length, num_words]\n",
    "    so that for each sequence in the batch there is a one-hot\n",
    "    encoded array of length num_words.\n",
    "    \"\"\"\n",
    "\n",
    "    # Calculate the loss. This outputs a\n",
    "    # 2-rank tensor of shape [batch_size, sequence_length]\n",
    "    loss = tf.nn.sparse_softmax_cross_entropy_with_logits(labels=y_true,\n",
    "                                                          logits=y_pred)\n",
    "\n",
    "    # Keras may reduce this across the first axis (the batch)\n",
    "    # but the semantics are unclear, so to be sure we use\n",
    "    # the loss across the entire 2-rank tensor, we reduce it\n",
    "    # to a single scalar with the mean function.\n",
    "    loss_mean = tf.reduce_mean(loss)\n",
    "\n",
    "    return loss_mean"
   ]
  },
  {
   "cell_type": "markdown",
   "metadata": {},
   "source": [
    "## Compile the Training Model"
   ]
  },
  {
   "cell_type": "code",
   "execution_count": 74,
   "metadata": {},
   "outputs": [],
   "source": [
    "optimizer = RMSprop(lr=1e-3)"
   ]
  },
  {
   "cell_type": "markdown",
   "metadata": {},
   "source": [
    "There seems to be a bug in Keras that it cannot automatically deduce the correct shape of the decoder's output data. We therefore need to manually create a placeholder variable for the decoder's output. The shape is set to `(None, None)` which means the batch can have an arbitrary number of sequences, which can have an arbitrary number of integer-tokens."
   ]
  },
  {
   "cell_type": "code",
   "execution_count": 75,
   "metadata": {},
   "outputs": [],
   "source": [
    "decoder_target = tf.placeholder(dtype='int32', shape=(None, None))"
   ]
  },
  {
   "cell_type": "code",
   "execution_count": 76,
   "metadata": {},
   "outputs": [],
   "source": [
    "decoder_model.compile(optimizer=optimizer,\n",
    "                      loss=sparse_cross_entropy,\n",
    "                      target_tensors=[decoder_target])"
   ]
  },
  {
   "cell_type": "markdown",
   "metadata": {},
   "source": [
    "### Callback Functions"
   ]
  },
  {
   "cell_type": "code",
   "execution_count": 78,
   "metadata": {},
   "outputs": [],
   "source": [
    "path_checkpoint = 'checkpoint_new.keras'\n",
    "callback_checkpoint = ModelCheckpoint(filepath=path_checkpoint,\n",
    "                                      verbose=1,\n",
    "                                      save_weights_only=True)"
   ]
  },
  {
   "cell_type": "code",
   "execution_count": 79,
   "metadata": {},
   "outputs": [],
   "source": [
    "callback_tensorboard = TensorBoard(log_dir='./logs/',\n",
    "                                   histogram_freq=0,\n",
    "                                   write_graph=False)"
   ]
  },
  {
   "cell_type": "code",
   "execution_count": 80,
   "metadata": {},
   "outputs": [],
   "source": [
    "callbacks = [callback_checkpoint, callback_tensorboard]"
   ]
  },
  {
   "cell_type": "markdown",
   "metadata": {},
   "source": [
    "### Load Checkpoint"
   ]
  },
  {
   "cell_type": "code",
   "execution_count": 81,
   "metadata": {},
   "outputs": [
    {
     "name": "stdout",
     "output_type": "stream",
     "text": [
      "Error trying to load checkpoint.\n",
      "Unable to open file (unable to open file: name = 'checkpoint_new.keras', errno = 2, error message = 'No such file or directory', flags = 0, o_flags = 0)\n"
     ]
    }
   ],
   "source": [
    "try:\n",
    "    decoder_model.load_weights(path_checkpoint)\n",
    "except Exception as error:\n",
    "    print(\"Error trying to load checkpoint.\")\n",
    "    print(error)"
   ]
  },
  {
   "cell_type": "markdown",
   "metadata": {},
   "source": [
    "### Train the Model"
   ]
  },
  {
   "cell_type": "code",
   "execution_count": 82,
   "metadata": {},
   "outputs": [
    {
     "name": "stdout",
     "output_type": "stream",
     "text": [
      "Epoch 1/20\n",
      "754/755 [============================>.] - ETA: 2s - loss: 1.7078\n",
      "Epoch 00001: saving model to checkpoint_new.keras\n",
      "755/755 [==============================] - 1972s 3s/step - loss: 1.7075\n",
      "Epoch 2/20\n",
      "754/755 [============================>.] - ETA: 2s - loss: 1.2153\n",
      "Epoch 00002: saving model to checkpoint_new.keras\n",
      "755/755 [==============================] - 2014s 3s/step - loss: 1.2156\n",
      "Epoch 3/20\n",
      " 74/755 [=>............................] - ETA: 29:00 - loss: 1.2041"
     ]
    },
    {
     "ename": "KeyboardInterrupt",
     "evalue": "",
     "output_type": "error",
     "traceback": [
      "\u001b[0;31m---------------------------------------------------------------------------\u001b[0m",
      "\u001b[0;31mKeyboardInterrupt\u001b[0m                         Traceback (most recent call last)",
      "\u001b[0;32m<timed eval>\u001b[0m in \u001b[0;36m<module>\u001b[0;34m\u001b[0m\n",
      "\u001b[0;32m~/.conda/envs/ai/lib/python3.6/site-packages/tensorflow/python/keras/engine/training.py\u001b[0m in \u001b[0;36mfit_generator\u001b[0;34m(self, generator, steps_per_epoch, epochs, verbose, callbacks, validation_data, validation_steps, class_weight, max_queue_size, workers, use_multiprocessing, shuffle, initial_epoch)\u001b[0m\n\u001b[1;32m   2175\u001b[0m         \u001b[0muse_multiprocessing\u001b[0m\u001b[0;34m=\u001b[0m\u001b[0muse_multiprocessing\u001b[0m\u001b[0;34m,\u001b[0m\u001b[0;34m\u001b[0m\u001b[0;34m\u001b[0m\u001b[0m\n\u001b[1;32m   2176\u001b[0m         \u001b[0mshuffle\u001b[0m\u001b[0;34m=\u001b[0m\u001b[0mshuffle\u001b[0m\u001b[0;34m,\u001b[0m\u001b[0;34m\u001b[0m\u001b[0;34m\u001b[0m\u001b[0m\n\u001b[0;32m-> 2177\u001b[0;31m         initial_epoch=initial_epoch)\n\u001b[0m\u001b[1;32m   2178\u001b[0m \u001b[0;34m\u001b[0m\u001b[0m\n\u001b[1;32m   2179\u001b[0m   def evaluate_generator(self,\n",
      "\u001b[0;32m~/.conda/envs/ai/lib/python3.6/site-packages/tensorflow/python/keras/engine/training_generator.py\u001b[0m in \u001b[0;36mfit_generator\u001b[0;34m(model, generator, steps_per_epoch, epochs, verbose, callbacks, validation_data, validation_steps, class_weight, max_queue_size, workers, use_multiprocessing, shuffle, initial_epoch)\u001b[0m\n\u001b[1;32m    174\u001b[0m \u001b[0;34m\u001b[0m\u001b[0m\n\u001b[1;32m    175\u001b[0m         outs = model.train_on_batch(\n\u001b[0;32m--> 176\u001b[0;31m             x, y, sample_weight=sample_weight, class_weight=class_weight)\n\u001b[0m\u001b[1;32m    177\u001b[0m \u001b[0;34m\u001b[0m\u001b[0m\n\u001b[1;32m    178\u001b[0m         \u001b[0;32mif\u001b[0m \u001b[0;32mnot\u001b[0m \u001b[0misinstance\u001b[0m\u001b[0;34m(\u001b[0m\u001b[0mouts\u001b[0m\u001b[0;34m,\u001b[0m \u001b[0mlist\u001b[0m\u001b[0;34m)\u001b[0m\u001b[0;34m:\u001b[0m\u001b[0;34m\u001b[0m\u001b[0;34m\u001b[0m\u001b[0m\n",
      "\u001b[0;32m~/.conda/envs/ai/lib/python3.6/site-packages/tensorflow/python/keras/engine/training.py\u001b[0m in \u001b[0;36mtrain_on_batch\u001b[0;34m(self, x, y, sample_weight, class_weight)\u001b[0m\n\u001b[1;32m   1938\u001b[0m \u001b[0;34m\u001b[0m\u001b[0m\n\u001b[1;32m   1939\u001b[0m       \u001b[0mself\u001b[0m\u001b[0;34m.\u001b[0m\u001b[0m_make_train_function\u001b[0m\u001b[0;34m(\u001b[0m\u001b[0;34m)\u001b[0m\u001b[0;34m\u001b[0m\u001b[0;34m\u001b[0m\u001b[0m\n\u001b[0;32m-> 1940\u001b[0;31m       \u001b[0moutputs\u001b[0m \u001b[0;34m=\u001b[0m \u001b[0mself\u001b[0m\u001b[0;34m.\u001b[0m\u001b[0mtrain_function\u001b[0m\u001b[0;34m(\u001b[0m\u001b[0mins\u001b[0m\u001b[0;34m)\u001b[0m\u001b[0;34m\u001b[0m\u001b[0;34m\u001b[0m\u001b[0m\n\u001b[0m\u001b[1;32m   1941\u001b[0m \u001b[0;34m\u001b[0m\u001b[0m\n\u001b[1;32m   1942\u001b[0m     \u001b[0;32mif\u001b[0m \u001b[0mlen\u001b[0m\u001b[0;34m(\u001b[0m\u001b[0moutputs\u001b[0m\u001b[0;34m)\u001b[0m \u001b[0;34m==\u001b[0m \u001b[0;36m1\u001b[0m\u001b[0;34m:\u001b[0m\u001b[0;34m\u001b[0m\u001b[0;34m\u001b[0m\u001b[0m\n",
      "\u001b[0;32m~/.conda/envs/ai/lib/python3.6/site-packages/tensorflow/python/keras/backend.py\u001b[0m in \u001b[0;36m__call__\u001b[0;34m(self, inputs)\u001b[0m\n\u001b[1;32m   2984\u001b[0m \u001b[0;34m\u001b[0m\u001b[0m\n\u001b[1;32m   2985\u001b[0m     fetched = self._callable_fn(*array_vals,\n\u001b[0;32m-> 2986\u001b[0;31m                                 run_metadata=self.run_metadata)\n\u001b[0m\u001b[1;32m   2987\u001b[0m     \u001b[0mself\u001b[0m\u001b[0;34m.\u001b[0m\u001b[0m_call_fetch_callbacks\u001b[0m\u001b[0;34m(\u001b[0m\u001b[0mfetched\u001b[0m\u001b[0;34m[\u001b[0m\u001b[0;34m-\u001b[0m\u001b[0mlen\u001b[0m\u001b[0;34m(\u001b[0m\u001b[0mself\u001b[0m\u001b[0;34m.\u001b[0m\u001b[0m_fetches\u001b[0m\u001b[0;34m)\u001b[0m\u001b[0;34m:\u001b[0m\u001b[0;34m]\u001b[0m\u001b[0;34m)\u001b[0m\u001b[0;34m\u001b[0m\u001b[0;34m\u001b[0m\u001b[0m\n\u001b[1;32m   2988\u001b[0m     \u001b[0;32mreturn\u001b[0m \u001b[0mfetched\u001b[0m\u001b[0;34m[\u001b[0m\u001b[0;34m:\u001b[0m\u001b[0mlen\u001b[0m\u001b[0;34m(\u001b[0m\u001b[0mself\u001b[0m\u001b[0;34m.\u001b[0m\u001b[0moutputs\u001b[0m\u001b[0;34m)\u001b[0m\u001b[0;34m]\u001b[0m\u001b[0;34m\u001b[0m\u001b[0;34m\u001b[0m\u001b[0m\n",
      "\u001b[0;32m~/.conda/envs/ai/lib/python3.6/site-packages/tensorflow/python/client/session.py\u001b[0m in \u001b[0;36m__call__\u001b[0;34m(self, *args, **kwargs)\u001b[0m\n\u001b[1;32m   1437\u001b[0m           ret = tf_session.TF_SessionRunCallable(\n\u001b[1;32m   1438\u001b[0m               \u001b[0mself\u001b[0m\u001b[0;34m.\u001b[0m\u001b[0m_session\u001b[0m\u001b[0;34m.\u001b[0m\u001b[0m_session\u001b[0m\u001b[0;34m,\u001b[0m \u001b[0mself\u001b[0m\u001b[0;34m.\u001b[0m\u001b[0m_handle\u001b[0m\u001b[0;34m,\u001b[0m \u001b[0margs\u001b[0m\u001b[0;34m,\u001b[0m \u001b[0mstatus\u001b[0m\u001b[0;34m,\u001b[0m\u001b[0;34m\u001b[0m\u001b[0;34m\u001b[0m\u001b[0m\n\u001b[0;32m-> 1439\u001b[0;31m               run_metadata_ptr)\n\u001b[0m\u001b[1;32m   1440\u001b[0m         \u001b[0;32mif\u001b[0m \u001b[0mrun_metadata\u001b[0m\u001b[0;34m:\u001b[0m\u001b[0;34m\u001b[0m\u001b[0;34m\u001b[0m\u001b[0m\n\u001b[1;32m   1441\u001b[0m           \u001b[0mproto_data\u001b[0m \u001b[0;34m=\u001b[0m \u001b[0mtf_session\u001b[0m\u001b[0;34m.\u001b[0m\u001b[0mTF_GetBuffer\u001b[0m\u001b[0;34m(\u001b[0m\u001b[0mrun_metadata_ptr\u001b[0m\u001b[0;34m)\u001b[0m\u001b[0;34m\u001b[0m\u001b[0;34m\u001b[0m\u001b[0m\n",
      "\u001b[0;31mKeyboardInterrupt\u001b[0m: "
     ]
    }
   ],
   "source": [
    "%%time\n",
    "decoder_model.fit_generator(generator=generator,\n",
    "                            steps_per_epoch=steps_per_epoch,\n",
    "                            epochs=20,\n",
    "                            callbacks=callbacks)"
   ]
  },
  {
   "cell_type": "markdown",
   "metadata": {},
   "source": [
    "# Generate Captions"
   ]
  },
  {
   "cell_type": "code",
   "execution_count": null,
   "metadata": {},
   "outputs": [],
   "source": [
    "def generate_caption(image_path, max_tokens=30):\n",
    "    \"\"\"\n",
    "    Generate a caption for the image in the given path.\n",
    "    The caption is limited to the given number of tokens (words).\n",
    "    \"\"\"\n",
    "\n",
    "    # Load and resize the image.\n",
    "    image = load_image(image_path, size=img_size)\n",
    "    \n",
    "    # Expand the 3-dim numpy array to 4-dim\n",
    "    # because the image-model expects a whole batch as input,\n",
    "    # so we give it a batch with just one image.\n",
    "    image_batch = np.expand_dims(image, axis=0)\n",
    "\n",
    "    # Process the image with the pre-trained image-model\n",
    "    # to get the transfer-values.\n",
    "    transfer_values = image_model_transfer.predict(image_batch)\n",
    "\n",
    "    # Pre-allocate the 2-dim array used as input to the decoder.\n",
    "    # This holds just a single sequence of integer-tokens,\n",
    "    # but the decoder-model expects a batch of sequences.\n",
    "    shape = (1, max_tokens)\n",
    "    decoder_input_data = np.zeros(shape=shape, dtype=np.int)\n",
    "\n",
    "    # The first input-token is the special start-token for 'ssss '.\n",
    "    token_int = token_start\n",
    "\n",
    "    # Initialize an empty output-text.\n",
    "    output_text = ''\n",
    "\n",
    "    # Initialize the number of tokens we have processed.\n",
    "    count_tokens = 0\n",
    "\n",
    "    # While we haven't sampled the special end-token for ' eeee'\n",
    "    # and we haven't processed the max number of tokens.\n",
    "    while token_int != token_end and count_tokens < max_tokens:\n",
    "        # Update the input-sequence to the decoder\n",
    "        # with the last token that was sampled.\n",
    "        # In the first iteration this will set the\n",
    "        # first element to the start-token.\n",
    "        decoder_input_data[0, count_tokens] = token_int\n",
    "\n",
    "        # Wrap the input-data in a dict for clarity and safety,\n",
    "        # so we are sure we input the data in the right order.\n",
    "        x_data = {\n",
    "            'transfer_values_input': transfer_values,\n",
    "            'decoder_input': decoder_input_data\n",
    "        }\n",
    "\n",
    "        # Note that we input the entire sequence of tokens\n",
    "        # to the decoder. This wastes a lot of computation\n",
    "        # because we are only interested in the last input\n",
    "        # and output. We could modify the code to return\n",
    "        # the GRU-states when calling predict() and then\n",
    "        # feeding these GRU-states as well the next time\n",
    "        # we call predict(), but it would make the code\n",
    "        # much more complicated.\n",
    "        \n",
    "        # Input this data to the decoder and get the predicted output.\n",
    "        decoder_output = decoder_model.predict(x_data)\n",
    "\n",
    "        # Get the last predicted token as a one-hot encoded array.\n",
    "        # Note that this is not limited by softmax, but we just\n",
    "        # need the index of the largest element so it doesn't matter.\n",
    "        token_onehot = decoder_output[0, count_tokens, :]\n",
    "\n",
    "        # Convert to an integer-token.\n",
    "        token_int = np.argmax(token_onehot)\n",
    "\n",
    "        # Lookup the word corresponding to this integer-token.\n",
    "        sampled_word = tokenizer.token_to_word(token_int)\n",
    "\n",
    "        # Append the word to the output-text.\n",
    "        output_text += \" \" + sampled_word\n",
    "\n",
    "        # Increment the token-counter.\n",
    "        count_tokens += 1\n",
    "\n",
    "    # This is the sequence of tokens output by the decoder.\n",
    "    output_tokens = decoder_input_data[0]\n",
    "\n",
    "    # Plot the image.\n",
    "    plt.imshow(image)\n",
    "    plt.show()\n",
    "    \n",
    "    # Print the predicted caption.\n",
    "    print(\"Predicted caption:\")\n",
    "    print(output_text)\n",
    "    print()"
   ]
  },
  {
   "cell_type": "code",
   "execution_count": null,
   "metadata": {},
   "outputs": [],
   "source": [
    "generate_caption('dataset/' + filenames_val[120])"
   ]
  },
  {
   "cell_type": "markdown",
   "metadata": {},
   "source": [
    "### Generate both true and predicted labels"
   ]
  },
  {
   "cell_type": "code",
   "execution_count": null,
   "metadata": {},
   "outputs": [],
   "source": [
    "def generate_caption_coco(idx, train=False):\n",
    "    \"\"\"\n",
    "    Generate a caption for an image in the COCO data-set.\n",
    "    Use the image with the given index in either the\n",
    "    training-set (train=True) or validation-set (train=False).\n",
    "    \"\"\"\n",
    "    \n",
    "    if train:\n",
    "        # Use image and captions from the training-set.\n",
    "        filename = filenames_train[idx]\n",
    "        captions = captions_train[idx]\n",
    "    else:\n",
    "        # Use image and captions from the validation-set.\n",
    "        filename = filenames_val[idx]\n",
    "        captions = captions_val[idx]\n",
    "\n",
    "    # Path for the image-file.\n",
    "    path = os.path.join(data_dir, filename)\n",
    "\n",
    "    # Use the model to generate a caption of the image.\n",
    "    generate_caption(image_path=path)\n",
    "\n",
    "    # Print the true captions from the data-set.\n",
    "    print(\"True captions:\")\n",
    "    for caption in captions:\n",
    "        print(caption)"
   ]
  },
  {
   "cell_type": "code",
   "execution_count": null,
   "metadata": {},
   "outputs": [],
   "source": [
    "generate_caption_coco(idx=1, train=False)"
   ]
  },
  {
   "cell_type": "code",
   "execution_count": null,
   "metadata": {},
   "outputs": [],
   "source": []
  }
 ],
 "metadata": {
  "kernelspec": {
   "display_name": "Python 3 (ai)",
   "language": "python",
   "name": "ai"
  },
  "language_info": {
   "codemirror_mode": {
    "name": "ipython",
    "version": 3
   },
   "file_extension": ".py",
   "mimetype": "text/x-python",
   "name": "python",
   "nbconvert_exporter": "python",
   "pygments_lexer": "ipython3",
   "version": "3.6.7"
  }
 },
 "nbformat": 4,
 "nbformat_minor": 2
}
